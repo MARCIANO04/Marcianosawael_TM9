{
  "nbformat": 4,
  "nbformat_minor": 0,
  "metadata": {
    "colab": {
      "provenance": [],
      "authorship_tag": "ABX9TyOIXs+mOH1HvcRbgycbLTqL",
      "include_colab_link": true
    },
    "kernelspec": {
      "name": "python3",
      "display_name": "Python 3"
    },
    "language_info": {
      "name": "python"
    }
  },
  "cells": [
    {
      "cell_type": "markdown",
      "metadata": {
        "id": "view-in-github",
        "colab_type": "text"
      },
      "source": [
        "<a href=\"https://colab.research.google.com/github/MARCIANO04/Marcianosawael_TM9/blob/main/UAS_DeepL.ipynb\" target=\"_parent\"><img src=\"https://colab.research.google.com/assets/colab-badge.svg\" alt=\"Open In Colab\"/></a>"
      ]
    },
    {
      "cell_type": "code",
      "source": [
        "!pip install roboflow -q\n",
        "\n",
        "from roboflow import Roboflow\n",
        "\n",
        "rf = Roboflow(api_key=\"RIdx6tzX5sOfU0fl6Ia9\")\n",
        "project = rf.workspace(\"marciano-sawael\").project(\"flower_dataset-k0wac\")\n",
        "version = project.version(1)\n",
        "dataset = version.download(\"folder\")\n",
        ""
      ],
      "metadata": {
        "colab": {
          "base_uri": "https://localhost:8080/"
        },
        "id": "LToqLynjag0L",
        "outputId": "ec545bab-e406-47b1-c77b-d510a5d9ab84"
      },
      "execution_count": 25,
      "outputs": [
        {
          "output_type": "stream",
          "name": "stdout",
          "text": [
            "loading Roboflow workspace...\n",
            "loading Roboflow project...\n"
          ]
        }
      ]
    },
    {
      "cell_type": "code",
      "source": [
        "import os\n",
        "import glob\n",
        "import numpy as np\n",
        "import matplotlib.pyplot as plt\n",
        "import tensorflow as tf\n",
        "from sklearn.metrics import classification_report, confusion_matrix, f1_score\n",
        "from tensorflow.keras.preprocessing.image import ImageDataGenerator\n",
        "from tensorflow.keras.applications import ResNet50, EfficientNetB0\n",
        "from tensorflow.keras.layers import Dense, Dropout, Flatten, GlobalAveragePooling2D\n",
        "from tensorflow.keras.models import Sequential\n",
        "from tensorflow.keras.optimizers import Adam\n",
        "\n"
      ],
      "metadata": {
        "id": "pNlLglFTjInE"
      },
      "execution_count": 26,
      "outputs": []
    },
    {
      "cell_type": "code",
      "source": [
        "IMG_SIZE = 224\n",
        "BATCH_SIZE = 32\n",
        "\n",
        "train_datagen = ImageDataGenerator(\n",
        "    rescale=1./255,\n",
        "    rotation_range=20,\n",
        "    zoom_range=0.2,\n",
        "    horizontal_flip=True\n",
        ")\n",
        "val_test_datagen = ImageDataGenerator(rescale=1./255)\n",
        "\n",
        "dataset_path = glob.glob(\"Flower_Dataset-1\")[0]\n",
        "train_dir = os.path.join(dataset_path, \"train\")\n",
        "val_dir = os.path.join(dataset_path, \"valid\")\n",
        "test_dir = os.path.join(dataset_path, \"test\")\n",
        "\n",
        "train_generator = train_datagen.flow_from_directory(\n",
        "    train_dir, target_size=(IMG_SIZE, IMG_SIZE), batch_size=BATCH_SIZE, class_mode='categorical'\n",
        ")\n",
        "val_generator = val_test_datagen.flow_from_directory(\n",
        "    val_dir, target_size=(IMG_SIZE, IMG_SIZE), batch_size=BATCH_SIZE, class_mode='categorical'\n",
        ")\n",
        "test_generator = val_test_datagen.flow_from_directory(\n",
        "    test_dir, target_size=(IMG_SIZE, IMG_SIZE), batch_size=BATCH_SIZE, class_mode='categorical', shuffle=False\n",
        ")\n",
        "\n",
        "NUM_CLASSES = len(train_generator.class_indices)\n",
        "label_map = train_generator.class_indices\n",
        "print(\"Class Mapping:\", label_map)\n",
        "\n"
      ],
      "metadata": {
        "colab": {
          "base_uri": "https://localhost:8080/"
        },
        "id": "gwPhFJMvkas9",
        "outputId": "eb007f85-6c3d-460d-8570-81d4003d01a6"
      },
      "execution_count": 28,
      "outputs": [
        {
          "output_type": "stream",
          "name": "stdout",
          "text": [
            "Found 151 images belonging to 3 classes.\n",
            "Found 18 images belonging to 3 classes.\n",
            "Found 9 images belonging to 3 classes.\n",
            "Class Mapping: {'black eyed': 0, 'iris': 1, 'rose': 2}\n"
          ]
        }
      ]
    },
    {
      "cell_type": "code",
      "source": [
        "def compile_train(model, name):\n",
        "    model.compile(optimizer=Adam(1e-4),\n",
        "                  loss='categorical_crossentropy',\n",
        "                  metrics=['accuracy'])\n",
        "    print(f\"\\n=== Training {name} ===\\n\")\n",
        "    history = model.fit(train_generator,\n",
        "                        validation_data=val_generator,\n",
        "                        epochs=15)\n",
        "\n",
        "    loss, acc = model.evaluate(test_generator)\n",
        "\n",
        "    # Prediksi untuk F1-Score dan klasifikasi\n",
        "    y_true = test_generator.classes\n",
        "    y_pred = model.predict(test_generator)\n",
        "    y_pred_labels = np.argmax(y_pred, axis=1)\n",
        "\n",
        "    f1 = f1_score(y_true, y_pred_labels, average='weighted')\n",
        "    report = classification_report(y_true, y_pred_labels, target_names=label_map.keys())\n",
        "\n",
        "    print(f\"\\n{name} Test Accuracy: {acc:.4f}, Loss: {loss:.4f}, F1-Score: {f1:.4f}\")\n",
        "    print(f\"\\nClassification Report:\\n{report}\")\n",
        "\n",
        "    return history, acc, loss, f1\n",
        "\n"
      ],
      "metadata": {
        "id": "iHm0AKCCkqzK"
      },
      "execution_count": 29,
      "outputs": []
    },
    {
      "cell_type": "code",
      "source": [
        "cnn_model = Sequential([\n",
        "    tf.keras.layers.Conv2D(32, (3,3), activation='relu', input_shape=(IMG_SIZE, IMG_SIZE, 3)),\n",
        "    tf.keras.layers.MaxPooling2D(2,2),\n",
        "    tf.keras.layers.Conv2D(64, (3,3), activation='relu'),\n",
        "    tf.keras.layers.MaxPooling2D(2,2),\n",
        "    tf.keras.layers.Conv2D(128, (3,3), activation='relu'),\n",
        "    tf.keras.layers.MaxPooling2D(2,2),\n",
        "    tf.keras.layers.Flatten(),\n",
        "    tf.keras.layers.Dense(128, activation='relu'),\n",
        "    tf.keras.layers.Dropout(0.5),\n",
        "    tf.keras.layers.Dense(NUM_CLASSES, activation='softmax')\n",
        "])\n",
        "\n",
        "cnn_history, cnn_acc, cnn_loss, cnn_f1 = compile_train(cnn_model, \"CNN\")\n",
        "\n"
      ],
      "metadata": {
        "colab": {
          "base_uri": "https://localhost:8080/"
        },
        "id": "nv4nwapTkwrh",
        "outputId": "278598bc-d37d-45f5-8ca0-a1522c621c65"
      },
      "execution_count": 30,
      "outputs": [
        {
          "output_type": "stream",
          "name": "stdout",
          "text": [
            "\n",
            "=== Training CNN ===\n",
            "\n",
            "Epoch 1/15\n",
            "\u001b[1m5/5\u001b[0m \u001b[32m━━━━━━━━━━━━━━━━━━━━\u001b[0m\u001b[37m\u001b[0m \u001b[1m19s\u001b[0m 4s/step - accuracy: 0.3668 - loss: 1.1295 - val_accuracy: 0.5000 - val_loss: 1.0632\n",
            "Epoch 2/15\n",
            "\u001b[1m5/5\u001b[0m \u001b[32m━━━━━━━━━━━━━━━━━━━━\u001b[0m\u001b[37m\u001b[0m \u001b[1m18s\u001b[0m 3s/step - accuracy: 0.4444 - loss: 1.0273 - val_accuracy: 0.8333 - val_loss: 0.8526\n",
            "Epoch 3/15\n",
            "\u001b[1m5/5\u001b[0m \u001b[32m━━━━━━━━━━━━━━━━━━━━\u001b[0m\u001b[37m\u001b[0m \u001b[1m18s\u001b[0m 4s/step - accuracy: 0.7042 - loss: 0.8527 - val_accuracy: 0.8333 - val_loss: 0.6494\n",
            "Epoch 4/15\n",
            "\u001b[1m5/5\u001b[0m \u001b[32m━━━━━━━━━━━━━━━━━━━━\u001b[0m\u001b[37m\u001b[0m \u001b[1m20s\u001b[0m 3s/step - accuracy: 0.8020 - loss: 0.6825 - val_accuracy: 0.7222 - val_loss: 0.6696\n",
            "Epoch 5/15\n",
            "\u001b[1m5/5\u001b[0m \u001b[32m━━━━━━━━━━━━━━━━━━━━\u001b[0m\u001b[37m\u001b[0m \u001b[1m17s\u001b[0m 3s/step - accuracy: 0.7180 - loss: 0.6271 - val_accuracy: 0.7778 - val_loss: 0.5550\n",
            "Epoch 6/15\n",
            "\u001b[1m5/5\u001b[0m \u001b[32m━━━━━━━━━━━━━━━━━━━━\u001b[0m\u001b[37m\u001b[0m \u001b[1m17s\u001b[0m 3s/step - accuracy: 0.7608 - loss: 0.6482 - val_accuracy: 0.8333 - val_loss: 0.4635\n",
            "Epoch 7/15\n",
            "\u001b[1m5/5\u001b[0m \u001b[32m━━━━━━━━━━━━━━━━━━━━\u001b[0m\u001b[37m\u001b[0m \u001b[1m17s\u001b[0m 3s/step - accuracy: 0.8188 - loss: 0.4726 - val_accuracy: 0.8333 - val_loss: 0.4648\n",
            "Epoch 8/15\n",
            "\u001b[1m5/5\u001b[0m \u001b[32m━━━━━━━━━━━━━━━━━━━━\u001b[0m\u001b[37m\u001b[0m \u001b[1m18s\u001b[0m 3s/step - accuracy: 0.7775 - loss: 0.4594 - val_accuracy: 0.8333 - val_loss: 0.3698\n",
            "Epoch 9/15\n",
            "\u001b[1m5/5\u001b[0m \u001b[32m━━━━━━━━━━━━━━━━━━━━\u001b[0m\u001b[37m\u001b[0m \u001b[1m17s\u001b[0m 3s/step - accuracy: 0.7628 - loss: 0.5075 - val_accuracy: 0.8333 - val_loss: 0.4247\n",
            "Epoch 10/15\n",
            "\u001b[1m5/5\u001b[0m \u001b[32m━━━━━━━━━━━━━━━━━━━━\u001b[0m\u001b[37m\u001b[0m \u001b[1m22s\u001b[0m 3s/step - accuracy: 0.7865 - loss: 0.4734 - val_accuracy: 0.8333 - val_loss: 0.3337\n",
            "Epoch 11/15\n",
            "\u001b[1m5/5\u001b[0m \u001b[32m━━━━━━━━━━━━━━━━━━━━\u001b[0m\u001b[37m\u001b[0m \u001b[1m17s\u001b[0m 3s/step - accuracy: 0.8309 - loss: 0.4368 - val_accuracy: 0.8333 - val_loss: 0.3875\n",
            "Epoch 12/15\n",
            "\u001b[1m5/5\u001b[0m \u001b[32m━━━━━━━━━━━━━━━━━━━━\u001b[0m\u001b[37m\u001b[0m \u001b[1m17s\u001b[0m 3s/step - accuracy: 0.8700 - loss: 0.3662 - val_accuracy: 0.8889 - val_loss: 0.3207\n",
            "Epoch 13/15\n",
            "\u001b[1m5/5\u001b[0m \u001b[32m━━━━━━━━━━━━━━━━━━━━\u001b[0m\u001b[37m\u001b[0m \u001b[1m17s\u001b[0m 3s/step - accuracy: 0.8212 - loss: 0.3710 - val_accuracy: 0.8889 - val_loss: 0.3244\n",
            "Epoch 14/15\n",
            "\u001b[1m5/5\u001b[0m \u001b[32m━━━━━━━━━━━━━━━━━━━━\u001b[0m\u001b[37m\u001b[0m \u001b[1m17s\u001b[0m 3s/step - accuracy: 0.8464 - loss: 0.3219 - val_accuracy: 0.8333 - val_loss: 0.2771\n",
            "Epoch 15/15\n",
            "\u001b[1m5/5\u001b[0m \u001b[32m━━━━━━━━━━━━━━━━━━━━\u001b[0m\u001b[37m\u001b[0m \u001b[1m17s\u001b[0m 3s/step - accuracy: 0.8443 - loss: 0.3744 - val_accuracy: 0.8889 - val_loss: 0.3249\n",
            "\u001b[1m1/1\u001b[0m \u001b[32m━━━━━━━━━━━━━━━━━━━━\u001b[0m\u001b[37m\u001b[0m \u001b[1m0s\u001b[0m 443ms/step - accuracy: 0.8889 - loss: 0.1677\n",
            "\u001b[1m1/1\u001b[0m \u001b[32m━━━━━━━━━━━━━━━━━━━━\u001b[0m\u001b[37m\u001b[0m \u001b[1m1s\u001b[0m 558ms/step\n",
            "\n",
            "CNN Test Accuracy: 0.8889, Loss: 0.1677, F1-Score: 0.8963\n",
            "\n",
            "Classification Report:\n",
            "              precision    recall  f1-score   support\n",
            "\n",
            "  black eyed       1.00      1.00      1.00         5\n",
            "        iris       0.50      1.00      0.67         1\n",
            "        rose       1.00      0.67      0.80         3\n",
            "\n",
            "    accuracy                           0.89         9\n",
            "   macro avg       0.83      0.89      0.82         9\n",
            "weighted avg       0.94      0.89      0.90         9\n",
            "\n"
          ]
        }
      ]
    },
    {
      "cell_type": "code",
      "source": [
        "base_resnet = ResNet50(weights='imagenet', include_top=False, input_shape=(IMG_SIZE, IMG_SIZE, 3))\n",
        "for layer in base_resnet.layers:\n",
        "    layer.trainable = False\n",
        "\n",
        "resnet_model = Sequential([\n",
        "    base_resnet,\n",
        "    GlobalAveragePooling2D(),\n",
        "    Dense(128, activation='relu'),\n",
        "    Dropout(0.5),\n",
        "    Dense(NUM_CLASSES, activation='softmax')\n",
        "])\n",
        "\n",
        "resnet_history, resnet_acc, resnet_loss, resnet_f1 = compile_train(resnet_model, \"ResNet50\")\n"
      ],
      "metadata": {
        "colab": {
          "base_uri": "https://localhost:8080/"
        },
        "id": "cE3CU0_bl-vW",
        "outputId": "e9c10e6a-3224-41ef-e3fa-d8ba9a201981"
      },
      "execution_count": 31,
      "outputs": [
        {
          "output_type": "stream",
          "name": "stdout",
          "text": [
            "\n",
            "=== Training ResNet50 ===\n",
            "\n",
            "Epoch 1/15\n",
            "\u001b[1m5/5\u001b[0m \u001b[32m━━━━━━━━━━━━━━━━━━━━\u001b[0m\u001b[37m\u001b[0m \u001b[1m39s\u001b[0m 6s/step - accuracy: 0.3052 - loss: 1.4365 - val_accuracy: 0.3333 - val_loss: 1.1144\n",
            "Epoch 2/15\n",
            "\u001b[1m5/5\u001b[0m \u001b[32m━━━━━━━━━━━━━━━━━━━━\u001b[0m\u001b[37m\u001b[0m \u001b[1m29s\u001b[0m 6s/step - accuracy: 0.3120 - loss: 1.3808 - val_accuracy: 0.3333 - val_loss: 1.1155\n",
            "Epoch 3/15\n",
            "\u001b[1m5/5\u001b[0m \u001b[32m━━━━━━━━━━━━━━━━━━━━\u001b[0m\u001b[37m\u001b[0m \u001b[1m27s\u001b[0m 6s/step - accuracy: 0.3819 - loss: 1.2956 - val_accuracy: 0.2778 - val_loss: 1.1242\n",
            "Epoch 4/15\n",
            "\u001b[1m5/5\u001b[0m \u001b[32m━━━━━━━━━━━━━━━━━━━━\u001b[0m\u001b[37m\u001b[0m \u001b[1m27s\u001b[0m 5s/step - accuracy: 0.3244 - loss: 1.4125 - val_accuracy: 0.2778 - val_loss: 1.1318\n",
            "Epoch 5/15\n",
            "\u001b[1m5/5\u001b[0m \u001b[32m━━━━━━━━━━━━━━━━━━━━\u001b[0m\u001b[37m\u001b[0m \u001b[1m27s\u001b[0m 5s/step - accuracy: 0.3979 - loss: 1.2930 - val_accuracy: 0.2778 - val_loss: 1.1416\n",
            "Epoch 6/15\n",
            "\u001b[1m5/5\u001b[0m \u001b[32m━━━━━━━━━━━━━━━━━━━━\u001b[0m\u001b[37m\u001b[0m \u001b[1m27s\u001b[0m 5s/step - accuracy: 0.2985 - loss: 1.3156 - val_accuracy: 0.2778 - val_loss: 1.1355\n",
            "Epoch 7/15\n",
            "\u001b[1m5/5\u001b[0m \u001b[32m━━━━━━━━━━━━━━━━━━━━\u001b[0m\u001b[37m\u001b[0m \u001b[1m30s\u001b[0m 6s/step - accuracy: 0.3197 - loss: 1.3850 - val_accuracy: 0.3889 - val_loss: 1.1182\n",
            "Epoch 8/15\n",
            "\u001b[1m5/5\u001b[0m \u001b[32m━━━━━━━━━━━━━━━━━━━━\u001b[0m\u001b[37m\u001b[0m \u001b[1m27s\u001b[0m 6s/step - accuracy: 0.3005 - loss: 1.3486 - val_accuracy: 0.3333 - val_loss: 1.1039\n",
            "Epoch 9/15\n",
            "\u001b[1m5/5\u001b[0m \u001b[32m━━━━━━━━━━━━━━━━━━━━\u001b[0m\u001b[37m\u001b[0m \u001b[1m27s\u001b[0m 6s/step - accuracy: 0.4053 - loss: 1.2439 - val_accuracy: 0.2778 - val_loss: 1.1008\n",
            "Epoch 10/15\n",
            "\u001b[1m5/5\u001b[0m \u001b[32m━━━━━━━━━━━━━━━━━━━━\u001b[0m\u001b[37m\u001b[0m \u001b[1m41s\u001b[0m 5s/step - accuracy: 0.4062 - loss: 1.1669 - val_accuracy: 0.3889 - val_loss: 1.1038\n",
            "Epoch 11/15\n",
            "\u001b[1m5/5\u001b[0m \u001b[32m━━━━━━━━━━━━━━━━━━━━\u001b[0m\u001b[37m\u001b[0m \u001b[1m29s\u001b[0m 5s/step - accuracy: 0.4154 - loss: 1.1121 - val_accuracy: 0.2778 - val_loss: 1.1095\n",
            "Epoch 12/15\n",
            "\u001b[1m5/5\u001b[0m \u001b[32m━━━━━━━━━━━━━━━━━━━━\u001b[0m\u001b[37m\u001b[0m \u001b[1m27s\u001b[0m 5s/step - accuracy: 0.2730 - loss: 1.2470 - val_accuracy: 0.2778 - val_loss: 1.1086\n",
            "Epoch 13/15\n",
            "\u001b[1m5/5\u001b[0m \u001b[32m━━━━━━━━━━━━━━━━━━━━\u001b[0m\u001b[37m\u001b[0m \u001b[1m30s\u001b[0m 6s/step - accuracy: 0.3220 - loss: 1.2664 - val_accuracy: 0.2778 - val_loss: 1.1186\n",
            "Epoch 14/15\n",
            "\u001b[1m5/5\u001b[0m \u001b[32m━━━━━━━━━━━━━━━━━━━━\u001b[0m\u001b[37m\u001b[0m \u001b[1m27s\u001b[0m 6s/step - accuracy: 0.4319 - loss: 1.1361 - val_accuracy: 0.2778 - val_loss: 1.1319\n",
            "Epoch 15/15\n",
            "\u001b[1m5/5\u001b[0m \u001b[32m━━━━━━━━━━━━━━━━━━━━\u001b[0m\u001b[37m\u001b[0m \u001b[1m27s\u001b[0m 6s/step - accuracy: 0.2848 - loss: 1.2866 - val_accuracy: 0.3333 - val_loss: 1.1266\n",
            "\u001b[1m1/1\u001b[0m \u001b[32m━━━━━━━━━━━━━━━━━━━━\u001b[0m\u001b[37m\u001b[0m \u001b[1m1s\u001b[0m 1s/step - accuracy: 0.3333 - loss: 1.0562\n",
            "\u001b[1m1/1\u001b[0m \u001b[32m━━━━━━━━━━━━━━━━━━━━\u001b[0m\u001b[37m\u001b[0m \u001b[1m3s\u001b[0m 3s/step\n",
            "\n",
            "ResNet50 Test Accuracy: 0.3333, Loss: 1.0562, F1-Score: 0.2921\n",
            "\n",
            "Classification Report:\n",
            "              precision    recall  f1-score   support\n",
            "\n",
            "  black eyed       0.50      0.20      0.29         5\n",
            "        iris       0.00      0.00      0.00         1\n",
            "        rose       0.29      0.67      0.40         3\n",
            "\n",
            "    accuracy                           0.33         9\n",
            "   macro avg       0.26      0.29      0.23         9\n",
            "weighted avg       0.37      0.33      0.29         9\n",
            "\n"
          ]
        },
        {
          "output_type": "stream",
          "name": "stderr",
          "text": [
            "Precision is ill-defined and being set to 0.0 in labels with no predicted samples. Use `zero_division` parameter to control this behavior.\n",
            "Precision is ill-defined and being set to 0.0 in labels with no predicted samples. Use `zero_division` parameter to control this behavior.\n",
            "Precision is ill-defined and being set to 0.0 in labels with no predicted samples. Use `zero_division` parameter to control this behavior.\n"
          ]
        }
      ]
    },
    {
      "cell_type": "code",
      "source": [
        "base_eff = EfficientNetB0(weights='imagenet', include_top=False, input_shape=(IMG_SIZE, IMG_SIZE, 3))\n",
        "for layer in base_eff.layers:\n",
        "    layer.trainable = False\n",
        "\n",
        "eff_model = Sequential([\n",
        "    base_eff,\n",
        "    GlobalAveragePooling2D(),\n",
        "    Dense(128, activation='relu'),\n",
        "    Dropout(0.5),\n",
        "    Dense(NUM_CLASSES, activation='softmax')\n",
        "])\n",
        "\n",
        "eff_history, eff_acc, eff_loss, eff_f1 = compile_train(eff_model, \"EfficientNetB0\")\n",
        "\n"
      ],
      "metadata": {
        "colab": {
          "base_uri": "https://localhost:8080/"
        },
        "id": "SZOpYNLAmGH_",
        "outputId": "b0e75b31-ebde-4662-d69b-011bd3237f87"
      },
      "execution_count": 32,
      "outputs": [
        {
          "output_type": "stream",
          "name": "stdout",
          "text": [
            "\n",
            "=== Training EfficientNetB0 ===\n",
            "\n",
            "Epoch 1/15\n",
            "\u001b[1m5/5\u001b[0m \u001b[32m━━━━━━━━━━━━━━━━━━━━\u001b[0m\u001b[37m\u001b[0m \u001b[1m29s\u001b[0m 3s/step - accuracy: 0.3867 - loss: 1.1252 - val_accuracy: 0.2778 - val_loss: 1.1072\n",
            "Epoch 2/15\n",
            "\u001b[1m5/5\u001b[0m \u001b[32m━━━━━━━━━━━━━━━━━━━━\u001b[0m\u001b[37m\u001b[0m \u001b[1m13s\u001b[0m 3s/step - accuracy: 0.3863 - loss: 1.1299 - val_accuracy: 0.2778 - val_loss: 1.1270\n",
            "Epoch 3/15\n",
            "\u001b[1m5/5\u001b[0m \u001b[32m━━━━━━━━━━━━━━━━━━━━\u001b[0m\u001b[37m\u001b[0m \u001b[1m12s\u001b[0m 3s/step - accuracy: 0.3970 - loss: 1.1508 - val_accuracy: 0.2778 - val_loss: 1.1237\n",
            "Epoch 4/15\n",
            "\u001b[1m5/5\u001b[0m \u001b[32m━━━━━━━━━━━━━━━━━━━━\u001b[0m\u001b[37m\u001b[0m \u001b[1m12s\u001b[0m 2s/step - accuracy: 0.4190 - loss: 1.1231 - val_accuracy: 0.2778 - val_loss: 1.1142\n",
            "Epoch 5/15\n",
            "\u001b[1m5/5\u001b[0m \u001b[32m━━━━━━━━━━━━━━━━━━━━\u001b[0m\u001b[37m\u001b[0m \u001b[1m12s\u001b[0m 2s/step - accuracy: 0.3307 - loss: 1.1418 - val_accuracy: 0.2778 - val_loss: 1.1096\n",
            "Epoch 6/15\n",
            "\u001b[1m5/5\u001b[0m \u001b[32m━━━━━━━━━━━━━━━━━━━━\u001b[0m\u001b[37m\u001b[0m \u001b[1m12s\u001b[0m 2s/step - accuracy: 0.3232 - loss: 1.1431 - val_accuracy: 0.2778 - val_loss: 1.1097\n",
            "Epoch 7/15\n",
            "\u001b[1m5/5\u001b[0m \u001b[32m━━━━━━━━━━━━━━━━━━━━\u001b[0m\u001b[37m\u001b[0m \u001b[1m13s\u001b[0m 3s/step - accuracy: 0.2691 - loss: 1.1184 - val_accuracy: 0.2778 - val_loss: 1.1125\n",
            "Epoch 8/15\n",
            "\u001b[1m5/5\u001b[0m \u001b[32m━━━━━━━━━━━━━━━━━━━━\u001b[0m\u001b[37m\u001b[0m \u001b[1m13s\u001b[0m 2s/step - accuracy: 0.3985 - loss: 1.1050 - val_accuracy: 0.2778 - val_loss: 1.1189\n",
            "Epoch 9/15\n",
            "\u001b[1m5/5\u001b[0m \u001b[32m━━━━━━━━━━━━━━━━━━━━\u001b[0m\u001b[37m\u001b[0m \u001b[1m20s\u001b[0m 2s/step - accuracy: 0.4104 - loss: 1.1053 - val_accuracy: 0.2778 - val_loss: 1.1141\n",
            "Epoch 10/15\n",
            "\u001b[1m5/5\u001b[0m \u001b[32m━━━━━━━━━━━━━━━━━━━━\u001b[0m\u001b[37m\u001b[0m \u001b[1m13s\u001b[0m 2s/step - accuracy: 0.4096 - loss: 1.1183 - val_accuracy: 0.2778 - val_loss: 1.1094\n",
            "Epoch 11/15\n",
            "\u001b[1m5/5\u001b[0m \u001b[32m━━━━━━━━━━━━━━━━━━━━\u001b[0m\u001b[37m\u001b[0m \u001b[1m13s\u001b[0m 2s/step - accuracy: 0.3470 - loss: 1.1204 - val_accuracy: 0.2778 - val_loss: 1.1079\n",
            "Epoch 12/15\n",
            "\u001b[1m5/5\u001b[0m \u001b[32m━━━━━━━━━━━━━━━━━━━━\u001b[0m\u001b[37m\u001b[0m \u001b[1m12s\u001b[0m 3s/step - accuracy: 0.3796 - loss: 1.1108 - val_accuracy: 0.2778 - val_loss: 1.1132\n",
            "Epoch 13/15\n",
            "\u001b[1m5/5\u001b[0m \u001b[32m━━━━━━━━━━━━━━━━━━━━\u001b[0m\u001b[37m\u001b[0m \u001b[1m21s\u001b[0m 2s/step - accuracy: 0.3019 - loss: 1.1339 - val_accuracy: 0.2778 - val_loss: 1.1134\n",
            "Epoch 14/15\n",
            "\u001b[1m5/5\u001b[0m \u001b[32m━━━━━━━━━━━━━━━━━━━━\u001b[0m\u001b[37m\u001b[0m \u001b[1m12s\u001b[0m 2s/step - accuracy: 0.3388 - loss: 1.1103 - val_accuracy: 0.2778 - val_loss: 1.1068\n",
            "Epoch 15/15\n",
            "\u001b[1m5/5\u001b[0m \u001b[32m━━━━━━━━━━━━━━━━━━━━\u001b[0m\u001b[37m\u001b[0m \u001b[1m13s\u001b[0m 3s/step - accuracy: 0.3499 - loss: 1.1146 - val_accuracy: 0.2778 - val_loss: 1.1080\n",
            "\u001b[1m1/1\u001b[0m \u001b[32m━━━━━━━━━━━━━━━━━━━━\u001b[0m\u001b[37m\u001b[0m \u001b[1m0s\u001b[0m 488ms/step - accuracy: 0.3333 - loss: 1.0704\n",
            "\u001b[1m1/1\u001b[0m \u001b[32m━━━━━━━━━━━━━━━━━━━━\u001b[0m\u001b[37m\u001b[0m \u001b[1m3s\u001b[0m 3s/step\n",
            "\n",
            "EfficientNetB0 Test Accuracy: 0.3333, Loss: 1.0704, F1-Score: 0.1667\n",
            "\n",
            "Classification Report:\n",
            "              precision    recall  f1-score   support\n",
            "\n",
            "  black eyed       0.00      0.00      0.00         5\n",
            "        iris       0.00      0.00      0.00         1\n",
            "        rose       0.33      1.00      0.50         3\n",
            "\n",
            "    accuracy                           0.33         9\n",
            "   macro avg       0.11      0.33      0.17         9\n",
            "weighted avg       0.11      0.33      0.17         9\n",
            "\n"
          ]
        },
        {
          "output_type": "stream",
          "name": "stderr",
          "text": [
            "Precision is ill-defined and being set to 0.0 in labels with no predicted samples. Use `zero_division` parameter to control this behavior.\n",
            "Precision is ill-defined and being set to 0.0 in labels with no predicted samples. Use `zero_division` parameter to control this behavior.\n",
            "Precision is ill-defined and being set to 0.0 in labels with no predicted samples. Use `zero_division` parameter to control this behavior.\n"
          ]
        }
      ]
    },
    {
      "cell_type": "code",
      "source": [
        "def plot_history(histories, title):\n",
        "    plt.figure(figsize=(10,5))\n",
        "    for label, hist in histories.items():\n",
        "        plt.plot(hist.history['val_accuracy'], label=f'{label} Val Acc')\n",
        "    plt.title(title)\n",
        "    plt.xlabel('Epoch')\n",
        "    plt.ylabel('Validation Accuracy')\n",
        "    plt.legend()\n",
        "    plt.grid(True)\n",
        "    plt.show()\n",
        "\n",
        "plot_history({\n",
        "    \"CNN\": cnn_history,\n",
        "    \"ResNet50\": resnet_history,\n",
        "    \"EfficientNetB0\": eff_history\n",
        "}, \"Perbandingan Akurasi Validasi\")\n"
      ],
      "metadata": {
        "colab": {
          "base_uri": "https://localhost:8080/",
          "height": 487
        },
        "id": "3sMNlcrQpo2e",
        "outputId": "45cacfb8-da1b-41dc-b423-2026c872f5e1"
      },
      "execution_count": 33,
      "outputs": [
        {
          "output_type": "display_data",
          "data": {
            "text/plain": [
              "<Figure size 1000x500 with 1 Axes>"
            ],
            "image/png": "[encoded data removed]"
          },
          "metadata": {}
        }
      ]
    },
    {
      "cell_type": "code",
      "source": [
        "results = {\n",
        "    \"CNN\": {\"acc\": cnn_acc, \"loss\": cnn_loss, \"f1\": cnn_f1},\n",
        "    \"ResNet50\": {\"acc\": resnet_acc, \"loss\": resnet_loss, \"f1\": resnet_f1},\n",
        "    \"EfficientNetB0\": {\"acc\": eff_acc, \"loss\": eff_loss, \"f1\": eff_f1},\n",
        "}\n",
        "\n",
        "print(\"\\n=== RINGKASAN EVALUASI MODEL ===\")\n",
        "for name, metrics in results.items():\n",
        "    print(f\"{name:15} | Accuracy: {metrics['acc']:.4f} | F1-Score: {metrics['f1']:.4f} | Loss: {metrics['loss']:.4f}\")\n",
        "\n",
        "# Menentukan model terbaik (berdasarkan akurasi dan F1)\n",
        "best_model = max(results.items(), key=lambda x: (x[1]['f1'], x[1]['acc']))\n",
        "print(f\"\\n🏆 Model Terbaik: {best_model[0]} (F1: {best_model[1]['f1']:.4f}, Acc: {best_model[1]['acc']:.4f})\")\n",
        "\n"
      ],
      "metadata": {
        "colab": {
          "base_uri": "https://localhost:8080/"
        },
        "id": "wmk_7fQtsyav",
        "outputId": "0c035405-6f8b-468f-d6a1-71f0ae036993"
      },
      "execution_count": 34,
      "outputs": [
        {
          "output_type": "stream",
          "name": "stdout",
          "text": [
            "\n",
            "=== RINGKASAN EVALUASI MODEL ===\n",
            "CNN             | Accuracy: 0.8889 | F1-Score: 0.8963 | Loss: 0.1677\n",
            "ResNet50        | Accuracy: 0.3333 | F1-Score: 0.2921 | Loss: 1.0562\n",
            "EfficientNetB0  | Accuracy: 0.3333 | F1-Score: 0.1667 | Loss: 1.0704\n",
            "\n",
            "🏆 Model Terbaik: CNN (F1: 0.8963, Acc: 0.8889)\n"
          ]
        }
      ]
    },
    {
      "cell_type": "code",
      "source": [],
      "metadata": {
        "id": "Xu9cO6krs3sg"
      },
      "execution_count": null,
      "outputs": []
    }
  ]
}